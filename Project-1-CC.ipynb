{
 "cells": [
  {
   "cell_type": "markdown",
   "metadata": {},
   "source": [
    "<img src=\"http://imgur.com/1ZcRyrc.png\" style=\"float: left; margin: 20px; height: 55px\">\n",
    "\n",
    "# Project 1: Python Coding Exercises\n",
    "\n",
    "_Authors: Joseph Nelson (DC) _\n",
    "\n",
    "---"
   ]
  },
  {
   "cell_type": "markdown",
   "metadata": {},
   "source": [
    "The following code challenges are drawn from common exercises used in technical interviews.\n",
    "\n",
    "Note that there may be several ways to approach each challenge!"
   ]
  },
  {
   "cell_type": "markdown",
   "metadata": {},
   "source": [
    "### Challenge 1.1: Largest Palindrome\n",
    "A palindromic number reads the same both ways. For example, 1234321 is a palindrome. The largest palindrome made from the product of two two-digit numbers is 9009 = 91 × 99. Find the largest palindrome made from the product of two three-digit numbers."
   ]
  },
  {
   "cell_type": "code",
   "execution_count": 2,
   "metadata": {},
   "outputs": [
    {
     "name": "stdout",
     "output_type": "stream",
     "text": [
      "Answer: \n",
      " 906609\n"
     ]
    }
   ],
   "source": [
    "# Function to check if number is a palindrome\n",
    "def palinChecker(num):\n",
    "    # Convert to string so that array manipulation can be used to reverse the number \n",
    "        # and check if it is the same as the original\n",
    "    if str(num) == str(num)[::-1]:\n",
    "        return True\n",
    "    else:\n",
    "        return False\n",
    "\n",
    "# Loop that goes through all three digit numbers for both sides of the operation\n",
    "result = 0   \n",
    "for i in range(100, 1000):\n",
    "    for j in range(100, 1000):\n",
    "        product = i*j\n",
    "        # if the function returns True for the product of i and j and the product \n",
    "            # is more than the previous largest palindrome,\n",
    "            # set the product to the new largest\n",
    "        if palinChecker(product) and product > result:\n",
    "            result = product\n",
    "print('Answer: \\n %s'%result)"
   ]
  },
  {
   "cell_type": "markdown",
   "metadata": {},
   "source": [
    "\n",
    "### Challenge 1.2: Summation of Primes\n",
    "The sum of the primes below 10 is 2 + 3 + 5 + 7 = 17. Find the sum of all the primes below 2,000."
   ]
  },
  {
   "cell_type": "code",
   "execution_count": 3,
   "metadata": {},
   "outputs": [
    {
     "name": "stdout",
     "output_type": "stream",
     "text": [
      "Answer: \n",
      " 277050\n"
     ]
    }
   ],
   "source": [
    "primeList = []\n",
    "for i in range(2,2000):\n",
    "    for j in range(2,i):\n",
    "        # j is all integers from 2 to the current iteration of i\n",
    "            # if i % j is zero, it must be non-prime\n",
    "            # so catch it with an if and break out of the loop\n",
    "        if i % j is 0:\n",
    "            break\n",
    "    else:  # if the loop was not broken, proceed to append i to the list\n",
    "        primeList.append(i)\n",
    "print('Answer: \\n %s'%(sum(primeList)))"
   ]
  },
  {
   "cell_type": "markdown",
   "metadata": {},
   "source": [
    "### Challenge 1.3: Multiples of 3 and 5\n",
    "If we list all of the natural numbers below 10 that are multiples of 3 or 5, we get 3, 5, 6, and 9. The sum of these multiples is 23. Find the sum of all the multiples of 3 and 5 below 1,000."
   ]
  },
  {
   "cell_type": "code",
   "execution_count": 122,
   "metadata": {},
   "outputs": [
    {
     "name": "stdout",
     "output_type": "stream",
     "text": [
      "Answer: \n",
      " 233168\n"
     ]
    }
   ],
   "source": [
    "multipleList = []\n",
    "for i in range(1,1000):\n",
    "    # check if iteration of i is divisible by 3 or 5\n",
    "    if i%3 is 0 or i%5 is 0:\n",
    "        multipleList.append(i)\n",
    "print('Answer: \\n %s'%(sum(multipleList)))"
   ]
  },
  {
   "cell_type": "markdown",
   "metadata": {},
   "source": [
    "### Challenge 2: FizzBuzz\n",
    "Write a program that prints all of the numbers from 1 to 100. For multiples of 3, instead of the number, print \"Fizz;\" for multiples of 5, print \"Buzz.\" For numbers that are multiples of both 3 and 5, print \"FizzBuzz.\" Bonus: If that's too easy, create three unique solutions. Sometimes you'll encounter unexpected constraints, so make sure you're able to think creatively!"
   ]
  },
  {
   "cell_type": "code",
   "execution_count": 4,
   "metadata": {
    "scrolled": true
   },
   "outputs": [
    {
     "name": "stdout",
     "output_type": "stream",
     "text": [
      "1\n",
      "2\n",
      "Fizz\n",
      "4\n",
      "Buzz\n",
      "Fizz\n",
      "7\n",
      "8\n",
      "Fizz\n",
      "Buzz\n",
      "11\n",
      "Fizz\n",
      "13\n",
      "14\n",
      "FizzBuzz\n",
      "16\n",
      "17\n",
      "Fizz\n",
      "19\n",
      "Buzz\n",
      "Fizz\n",
      "22\n",
      "23\n",
      "Fizz\n",
      "Buzz\n",
      "26\n",
      "Fizz\n",
      "28\n",
      "29\n",
      "FizzBuzz\n",
      "31\n",
      "32\n",
      "Fizz\n",
      "34\n",
      "Buzz\n",
      "Fizz\n",
      "37\n",
      "38\n",
      "Fizz\n",
      "Buzz\n",
      "41\n",
      "Fizz\n",
      "43\n",
      "44\n",
      "FizzBuzz\n",
      "46\n",
      "47\n",
      "Fizz\n",
      "49\n",
      "Buzz\n",
      "Fizz\n",
      "52\n",
      "53\n",
      "Fizz\n",
      "Buzz\n",
      "56\n",
      "Fizz\n",
      "58\n",
      "59\n",
      "FizzBuzz\n",
      "61\n",
      "62\n",
      "Fizz\n",
      "64\n",
      "Buzz\n",
      "Fizz\n",
      "67\n",
      "68\n",
      "Fizz\n",
      "Buzz\n",
      "71\n",
      "Fizz\n",
      "73\n",
      "74\n",
      "FizzBuzz\n",
      "76\n",
      "77\n",
      "Fizz\n",
      "79\n",
      "Buzz\n",
      "Fizz\n",
      "82\n",
      "83\n",
      "Fizz\n",
      "Buzz\n",
      "86\n",
      "Fizz\n",
      "88\n",
      "89\n",
      "FizzBuzz\n",
      "91\n",
      "92\n",
      "Fizz\n",
      "94\n",
      "Buzz\n",
      "Fizz\n",
      "97\n",
      "98\n",
      "Fizz\n",
      "Buzz\n"
     ]
    }
   ],
   "source": [
    "# define function with logic to return proper result\n",
    "def fizzer(num):\n",
    "    if num % 15 is 0:\n",
    "        return 'FizzBuzz'\n",
    "    elif num % 3 is 0:\n",
    "        return 'Fizz'\n",
    "    elif num % 5 is 0:\n",
    "        return 'Buzz'\n",
    "    else:\n",
    "        return str(num)\n",
    "fizzBuzzOne = []\n",
    "# map across range of 1 to 101 with the fizzer function\n",
    "for x in map(fizzer, range(1,101)):\n",
    "    ans = '%s'%(str(x))\n",
    "    fizzBuzzOne.append(ans)\n",
    "    print(ans)"
   ]
  },
  {
   "cell_type": "code",
   "execution_count": 5,
   "metadata": {
    "scrolled": true
   },
   "outputs": [
    {
     "name": "stdout",
     "output_type": "stream",
     "text": [
      "1\n",
      "2\n",
      "Fizz\n",
      "4\n",
      "Buzz\n",
      "Fizz\n",
      "7\n",
      "8\n",
      "Fizz\n",
      "Buzz\n",
      "11\n",
      "Fizz\n",
      "13\n",
      "14\n",
      "FizzBuzz\n",
      "16\n",
      "17\n",
      "Fizz\n",
      "19\n",
      "Buzz\n",
      "Fizz\n",
      "22\n",
      "23\n",
      "Fizz\n",
      "Buzz\n",
      "26\n",
      "Fizz\n",
      "28\n",
      "29\n",
      "FizzBuzz\n",
      "31\n",
      "32\n",
      "Fizz\n",
      "34\n",
      "Buzz\n",
      "Fizz\n",
      "37\n",
      "38\n",
      "Fizz\n",
      "Buzz\n",
      "41\n",
      "Fizz\n",
      "43\n",
      "44\n",
      "FizzBuzz\n",
      "46\n",
      "47\n",
      "Fizz\n",
      "49\n",
      "Buzz\n",
      "Fizz\n",
      "52\n",
      "53\n",
      "Fizz\n",
      "Buzz\n",
      "56\n",
      "Fizz\n",
      "58\n",
      "59\n",
      "FizzBuzz\n",
      "61\n",
      "62\n",
      "Fizz\n",
      "64\n",
      "Buzz\n",
      "Fizz\n",
      "67\n",
      "68\n",
      "Fizz\n",
      "Buzz\n",
      "71\n",
      "Fizz\n",
      "73\n",
      "74\n",
      "FizzBuzz\n",
      "76\n",
      "77\n",
      "Fizz\n",
      "79\n",
      "Buzz\n",
      "Fizz\n",
      "82\n",
      "83\n",
      "Fizz\n",
      "Buzz\n",
      "86\n",
      "Fizz\n",
      "88\n",
      "89\n",
      "FizzBuzz\n",
      "91\n",
      "92\n",
      "Fizz\n",
      "94\n",
      "Buzz\n",
      "Fizz\n",
      "97\n",
      "98\n",
      "Fizz\n",
      "Buzz\n"
     ]
    }
   ],
   "source": [
    "fizzBuzzTwo = []\n",
    "# from 1 to 100, append the value of the logic below\n",
    "# if the modulo comparisons return True, then string*True will return the string\n",
    "    # and string*False will return an empty string\n",
    "    # + will concatenate whatever is returned by the comparisons\n",
    "# OR operator to print the number if both comparisons resolve to False\n",
    "for i in range(1, 101):\n",
    "    ans = \"Fizz\"*(i % 3 is 0) + \"Buzz\"*(i % 5 is 0) or str(i)\n",
    "    fizzBuzzTwo.append(ans)\n",
    "    print(ans)"
   ]
  },
  {
   "cell_type": "code",
   "execution_count": 6,
   "metadata": {
    "scrolled": true
   },
   "outputs": [
    {
     "name": "stdout",
     "output_type": "stream",
     "text": [
      "The two lists are equal\n"
     ]
    }
   ],
   "source": [
    "# I appended each iteration to a list for both implementations.\n",
    "# They match\n",
    "if fizzBuzzOne == fizzBuzzTwo:\n",
    "    print('The two lists are equal')\n",
    "else:\n",
    "    print('The lists do not match')"
   ]
  },
  {
   "cell_type": "markdown",
   "metadata": {},
   "source": [
    "### Challenge 3: String Compressor\n",
    "Implement a method to perform basic string compression using the counts of repeated characters. (This is called run-length encoding.) For example, the string \"aabcccccaaa\" would become a2b1c5a3. If the “compressed” string would not become smaller than the original string, your method should return the original string. You can assume the string has only uppercase and lowercase letters (a–z). Specify whether your solution is case sensitive or case insensitive and what you would need to change to make it the other."
   ]
  },
  {
   "cell_type": "code",
   "execution_count": 7,
   "metadata": {
    "scrolled": true
   },
   "outputs": [
    {
     "name": "stdout",
     "output_type": "stream",
     "text": [
      "Answer: \n",
      "a2b1c5a3\n"
     ]
    }
   ],
   "source": [
    "def kompressor(word):\n",
    "    current_letter = ''\n",
    "    current_count = ''\n",
    "    current_string = ''\n",
    "    # by using lower() method, function is made case insensitive\n",
    "    word = word.lower()\n",
    "    # loop through line, if current iterated letter is same as one stored in current_letter\n",
    "        # increment count by one\n",
    "    # if it is different, append the letter and its count to a holding string, and reset the variables\n",
    "    for i in word:\n",
    "        if i is current_letter:\n",
    "            current_count += 1\n",
    "        else:\n",
    "            current_string += current_letter + str(current_count)\n",
    "            current_letter = i\n",
    "            current_count = 1\n",
    "    # append the last incarnation of current_string and current_count not captured by for loop\n",
    "    current_string += current_letter + str(current_count)\n",
    "    # if compressed string is longer or equal to original string, print original string\n",
    "    if len(current_string) >= len(word):\n",
    "        print(word)\n",
    "    else:\n",
    "        print(current_string)\n",
    "\n",
    "print('Answer: ')\n",
    "kompressor('aabCccccaaa')"
   ]
  }
 ],
 "metadata": {
  "anaconda-cloud": {},
  "kernelspec": {
   "display_name": "Python 3",
   "language": "python",
   "name": "python3"
  },
  "language_info": {
   "codemirror_mode": {
    "name": "ipython",
    "version": 3
   },
   "file_extension": ".py",
   "mimetype": "text/x-python",
   "name": "python",
   "nbconvert_exporter": "python",
   "pygments_lexer": "ipython3",
   "version": "3.6.4"
  }
 },
 "nbformat": 4,
 "nbformat_minor": 2
}
